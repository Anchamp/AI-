{
  "metadata": {
    "kernelspec": {
      "name": "python3",
      "display_name": "Python 3",
      "language": "python"
    },
    "language_info": {
      "name": "python",
      "version": "3.10.12",
      "mimetype": "text/x-python",
      "codemirror_mode": {
        "name": "ipython",
        "version": 3
      },
      "pygments_lexer": "ipython3",
      "nbconvert_exporter": "python",
      "file_extension": ".py"
    },
    "kaggle": {
      "accelerator": "none",
      "dataSources": [
        {
          "sourceId": 10391832,
          "sourceType": "datasetVersion",
          "datasetId": 6438137
        }
      ],
      "dockerImageVersionId": 30839,
      "isInternetEnabled": true,
      "language": "python",
      "sourceType": "notebook",
      "isGpuEnabled": false
    },
    "colab": {
      "provenance": [],
      "include_colab_link": true
    }
  },
  "nbformat_minor": 0,
  "nbformat": 4,
  "cells": [
    {
      "cell_type": "markdown",
      "metadata": {
        "id": "view-in-github",
        "colab_type": "text"
      },
      "source": [
        "<a href=\"https://colab.research.google.com/github/Anchamp/AI-/blob/main/Spotify_Music_Analysis.ipynb\" target=\"_parent\"><img src=\"https://colab.research.google.com/assets/colab-badge.svg\" alt=\"Open In Colab\"/></a>"
      ]
    },
    {
      "source": [
        "\n",
        "import kagglehub\n",
        "solomonameh_spotify_music_dataset_path = kagglehub.dataset_download('solomonameh/spotify-music-dataset')\n",
        "\n",
        "print('Data source import complete.')\n"
      ],
      "metadata": {
        "id": "0K-kpHiyEJSQ"
      },
      "cell_type": "code",
      "outputs": [],
      "execution_count": null
    },
    {
      "cell_type": "markdown",
      "source": [
        "## Import necessary libraries and load the datasets"
      ],
      "metadata": {
        "id": "ed7d1386-0c85-43ed-90c0-143dc02f6d75"
      }
    },
    {
      "cell_type": "code",
      "source": [
        "import pandas as pd\n",
        "import numpy as np\n",
        "import matplotlib.pyplot as plt\n",
        "import seaborn as sns\n",
        "from sklearn.model_selection import train_test_split\n",
        "from sklearn.preprocessing import StandardScaler\n",
        "from sklearn.preprocessing import LabelEncoder\n",
        "from sklearn.ensemble import RandomForestClassifier\n",
        "from sklearn.metrics import classification_report, confusion_matrix\n",
        "# Ignore warnings (optional)\n",
        "import warnings\n",
        "warnings.filterwarnings('ignore')\n",
        "\n",
        "\n",
        "# Load the datasets\n",
        "low_popularity = pd.read_csv('/kaggle/input/spotify-music-dataset/low_popularity_spotify_data.csv')\n",
        "high_popularity = pd.read_csv('/kaggle/input/spotify-music-dataset/high_popularity_spotify_data.csv')"
      ],
      "metadata": {
        "trusted": true,
        "execution": {
          "iopub.status.busy": "2025-01-27T23:29:40.296564Z",
          "iopub.execute_input": "2025-01-27T23:29:40.296874Z",
          "iopub.status.idle": "2025-01-27T23:29:41.358831Z",
          "shell.execute_reply.started": "2025-01-27T23:29:40.296852Z",
          "shell.execute_reply": "2025-01-27T23:29:41.357886Z"
        },
        "id": "12bd1b5b-25e3-461b-b0ab-bf920775177f"
      },
      "outputs": [],
      "execution_count": null
    },
    {
      "cell_type": "markdown",
      "source": [
        "#### Add the \"Popularity_Type\" column to each dataset"
      ],
      "metadata": {
        "id": "ff158e3b-f8d4-4922-bc3e-55f37184a468"
      }
    },
    {
      "cell_type": "code",
      "source": [
        "low_popularity['Popularity_Type'] = 'Low'\n",
        "high_popularity['Popularity_Type'] = 'High'"
      ],
      "metadata": {
        "trusted": true,
        "execution": {
          "iopub.status.busy": "2025-01-27T23:29:41.359735Z",
          "iopub.execute_input": "2025-01-27T23:29:41.359938Z",
          "iopub.status.idle": "2025-01-27T23:29:41.366769Z",
          "shell.execute_reply.started": "2025-01-27T23:29:41.359921Z",
          "shell.execute_reply": "2025-01-27T23:29:41.364953Z"
        },
        "id": "131c9754-f9ff-4ace-b761-541a8cc012ae"
      },
      "outputs": [],
      "execution_count": null
    },
    {
      "cell_type": "markdown",
      "source": [
        "#### Combine the datasets"
      ],
      "metadata": {
        "id": "44ce7f27-0efe-4cd9-9103-80298d8cd387"
      }
    },
    {
      "cell_type": "code",
      "source": [
        "combined_df = pd.concat([low_popularity, high_popularity], ignore_index=True)"
      ],
      "metadata": {
        "trusted": true,
        "execution": {
          "iopub.status.busy": "2025-01-27T23:29:41.368509Z",
          "iopub.execute_input": "2025-01-27T23:29:41.368806Z",
          "iopub.status.idle": "2025-01-27T23:29:41.395545Z",
          "shell.execute_reply.started": "2025-01-27T23:29:41.368784Z",
          "shell.execute_reply": "2025-01-27T23:29:41.39448Z"
        },
        "id": "fdeac5b3-740b-4539-b184-de5bf9a961c9"
      },
      "outputs": [],
      "execution_count": null
    },
    {
      "cell_type": "code",
      "source": [
        " # Check the combined dataset\n",
        "print(combined_df.shape)\n",
        "print(combined_df.columns)\n",
        "print(combined_df['Popularity_Type'].value_counts())"
      ],
      "metadata": {
        "trusted": true,
        "execution": {
          "iopub.status.busy": "2025-01-27T23:29:41.39687Z",
          "iopub.execute_input": "2025-01-27T23:29:41.397145Z",
          "iopub.status.idle": "2025-01-27T23:29:41.420787Z",
          "shell.execute_reply.started": "2025-01-27T23:29:41.39712Z",
          "shell.execute_reply": "2025-01-27T23:29:41.419889Z"
        },
        "id": "ee46248f-0dc1-41ed-988c-be4a77f240df"
      },
      "outputs": [],
      "execution_count": null
    },
    {
      "cell_type": "code",
      "source": [
        "print(combined_df.info())"
      ],
      "metadata": {
        "trusted": true,
        "execution": {
          "iopub.status.busy": "2025-01-27T23:29:41.421935Z",
          "iopub.execute_input": "2025-01-27T23:29:41.422481Z",
          "iopub.status.idle": "2025-01-27T23:29:41.459777Z",
          "shell.execute_reply.started": "2025-01-27T23:29:41.422456Z",
          "shell.execute_reply": "2025-01-27T23:29:41.457629Z"
        },
        "id": "9f89b5ba-4f21-411c-b5d2-49a985bf7c7e"
      },
      "outputs": [],
      "execution_count": null
    },
    {
      "cell_type": "code",
      "source": [
        "# Display the first few rows of the data\n",
        "combined_df.head()"
      ],
      "metadata": {
        "trusted": true,
        "execution": {
          "iopub.status.busy": "2025-01-27T23:29:41.46093Z",
          "iopub.execute_input": "2025-01-27T23:29:41.461344Z",
          "iopub.status.idle": "2025-01-27T23:29:41.487652Z",
          "shell.execute_reply.started": "2025-01-27T23:29:41.461313Z",
          "shell.execute_reply": "2025-01-27T23:29:41.486447Z"
        },
        "id": "0ca27576-5ade-4958-91f8-5f7217993e32"
      },
      "outputs": [],
      "execution_count": null
    },
    {
      "cell_type": "code",
      "source": [
        "# Description of the Dataset\n",
        "combined_df.describe()"
      ],
      "metadata": {
        "trusted": true,
        "execution": {
          "iopub.status.busy": "2025-01-27T23:29:41.489232Z",
          "iopub.execute_input": "2025-01-27T23:29:41.489629Z",
          "iopub.status.idle": "2025-01-27T23:29:41.53406Z",
          "shell.execute_reply.started": "2025-01-27T23:29:41.489601Z",
          "shell.execute_reply": "2025-01-27T23:29:41.532796Z"
        },
        "id": "54593bb7-ee30-48fe-b6b9-f6b972ee5de7"
      },
      "outputs": [],
      "execution_count": null
    },
    {
      "cell_type": "markdown",
      "source": [
        "## Data Cleaning and Preprocessing"
      ],
      "metadata": {
        "id": "353f271f-9cfa-40f1-b337-3017d6813961"
      }
    },
    {
      "cell_type": "code",
      "source": [
        "# Check for missing values in each column\n",
        "combined_df.isnull().sum()"
      ],
      "metadata": {
        "trusted": true,
        "execution": {
          "iopub.status.busy": "2025-01-27T23:29:41.536456Z",
          "iopub.execute_input": "2025-01-27T23:29:41.53673Z",
          "iopub.status.idle": "2025-01-27T23:29:41.551048Z",
          "shell.execute_reply.started": "2025-01-27T23:29:41.536711Z",
          "shell.execute_reply": "2025-01-27T23:29:41.549859Z"
        },
        "id": "8743eb69-9407-4495-8dda-a45ad0adf664"
      },
      "outputs": [],
      "execution_count": null
    },
    {
      "cell_type": "code",
      "source": [
        "# Handle missing values\n",
        "combined_df = combined_df.dropna()\n",
        "\n",
        "# Convert necessary columns to appropriate data types\n",
        "combined_df['track_album_release_date'] = pd.to_datetime(combined_df['track_album_release_date'], errors='ignore')"
      ],
      "metadata": {
        "trusted": true,
        "execution": {
          "iopub.status.busy": "2025-01-27T23:29:41.552661Z",
          "iopub.execute_input": "2025-01-27T23:29:41.552907Z",
          "iopub.status.idle": "2025-01-27T23:29:41.585744Z",
          "shell.execute_reply.started": "2025-01-27T23:29:41.552888Z",
          "shell.execute_reply": "2025-01-27T23:29:41.584144Z"
        },
        "id": "6d88e6a4-bbba-4f84-893c-b3a8dc1210c4"
      },
      "outputs": [],
      "execution_count": null
    },
    {
      "cell_type": "code",
      "source": [
        "print(combined_df['track_album_release_date'].head(22))"
      ],
      "metadata": {
        "trusted": true,
        "execution": {
          "iopub.status.busy": "2025-01-27T23:29:41.586776Z",
          "iopub.execute_input": "2025-01-27T23:29:41.587031Z",
          "iopub.status.idle": "2025-01-27T23:29:41.594773Z",
          "shell.execute_reply.started": "2025-01-27T23:29:41.587011Z",
          "shell.execute_reply": "2025-01-27T23:29:41.593203Z"
        },
        "id": "4b17be76-6566-419a-b7a5-18cd9bec90ec"
      },
      "outputs": [],
      "execution_count": null
    },
    {
      "cell_type": "markdown",
      "source": [
        "It seems some elements in 'track_album_release_date' are not in regular date format. To fix the inconsistent date formats in the 'track_album_release_date' column, you can use a custom parsing function that handles both full dates and years. Here's how you can modify the code to address this issue:"
      ],
      "metadata": {
        "id": "f0aca463-2235-4ef5-a088-09a6e2e4bfe1"
      }
    },
    {
      "cell_type": "code",
      "source": [
        "from datetime import datetime\n",
        "\n",
        "def parse_date(date_string):\n",
        "    try:\n",
        "        # First, try parsing as a full date\n",
        "        return pd.to_datetime(date_string)\n",
        "    except ValueError:\n",
        "        try:\n",
        "            # If that fails, try parsing as just a year\n",
        "            return pd.to_datetime(f\"{date_string}-01-01\")\n",
        "        except ValueError:\n",
        "            # If both fail, return NaT (Not a Time)\n",
        "            return pd.NaT"
      ],
      "metadata": {
        "trusted": true,
        "execution": {
          "iopub.status.busy": "2025-01-27T23:29:41.595664Z",
          "iopub.execute_input": "2025-01-27T23:29:41.596022Z",
          "iopub.status.idle": "2025-01-27T23:29:41.616947Z",
          "shell.execute_reply.started": "2025-01-27T23:29:41.595995Z",
          "shell.execute_reply": "2025-01-27T23:29:41.615628Z"
        },
        "id": "c6964af7-e2f5-4c47-86c0-da1d13192e63"
      },
      "outputs": [],
      "execution_count": null
    },
    {
      "cell_type": "code",
      "source": [
        "# Apply the custom parsing function\n",
        "combined_df['track_album_release_date'] = combined_df['track_album_release_date'].apply(parse_date)\n",
        "\n",
        "# Check the result\n",
        "print(combined_df['track_album_release_date'].head(25))\n",
        "print(combined_df['track_album_release_date'].dtype)"
      ],
      "metadata": {
        "trusted": true,
        "execution": {
          "iopub.status.busy": "2025-01-27T23:29:41.618028Z",
          "iopub.execute_input": "2025-01-27T23:29:41.618328Z",
          "iopub.status.idle": "2025-01-27T23:29:42.9058Z",
          "shell.execute_reply.started": "2025-01-27T23:29:41.618303Z",
          "shell.execute_reply": "2025-01-27T23:29:42.904425Z"
        },
        "id": "8d911887-45bf-4a8e-abe7-43f4d336afae"
      },
      "outputs": [],
      "execution_count": null
    },
    {
      "cell_type": "code",
      "source": [
        "# Drop irrelevant columns (e.g., URLs, IDs)\n",
        "irrelevant_columns = ['uri', 'track_href', 'analysis_url', 'id']\n",
        "combined_df.drop(columns=irrelevant_columns, inplace=True)\n",
        "\n",
        "# Verify cleaned data\n",
        "print(combined_df.info())"
      ],
      "metadata": {
        "trusted": true,
        "execution": {
          "iopub.status.busy": "2025-01-27T23:29:42.907202Z",
          "iopub.execute_input": "2025-01-27T23:29:42.907652Z",
          "iopub.status.idle": "2025-01-27T23:29:42.927695Z",
          "shell.execute_reply.started": "2025-01-27T23:29:42.907622Z",
          "shell.execute_reply": "2025-01-27T23:29:42.926679Z"
        },
        "id": "41f1dce7-b847-4bfe-a307-40d09e6cc72f"
      },
      "outputs": [],
      "execution_count": null
    },
    {
      "cell_type": "markdown",
      "source": [
        "## Exploratory Data Analysis (EDA) and Visualization"
      ],
      "metadata": {
        "id": "3c94fad0-20d6-4d37-b274-9222e42e8104"
      }
    },
    {
      "cell_type": "markdown",
      "source": [
        "#### Correlation Heatmap"
      ],
      "metadata": {
        "id": "0f85ab9d-72b8-4754-870c-4c32bb4290b2"
      }
    },
    {
      "cell_type": "code",
      "source": [
        "# Correlation heatmap for numeric features\n",
        "numeric_cols = combined_df.select_dtypes(include=['float64', 'int64']).columns\n",
        "plt.figure(figsize=(12, 10))\n",
        "sns.heatmap(combined_df[numeric_cols].corr(), annot=True, cmap='coolwarm')\n",
        "plt.title('Correlation Heatmap')\n",
        "plt.show()"
      ],
      "metadata": {
        "trusted": true,
        "execution": {
          "iopub.status.busy": "2025-01-27T23:29:42.928557Z",
          "iopub.execute_input": "2025-01-27T23:29:42.928814Z",
          "iopub.status.idle": "2025-01-27T23:29:43.549887Z",
          "shell.execute_reply.started": "2025-01-27T23:29:42.928793Z",
          "shell.execute_reply": "2025-01-27T23:29:43.548361Z"
        },
        "id": "dd1faca0-4095-4dc6-8a3e-979b432dd1ac"
      },
      "outputs": [],
      "execution_count": null
    },
    {
      "cell_type": "markdown",
      "source": [
        "#### Feature Distributions"
      ],
      "metadata": {
        "id": "f2fd0e2b-5f37-46c9-abf9-6ad61ae88c42"
      }
    },
    {
      "cell_type": "code",
      "source": [
        "# Distribution of audio features by popularity type\n",
        "audio_features = ['danceability', 'energy', 'valence', 'tempo', 'loudness', 'speechiness', 'acousticness', 'instrumentalness']\n",
        "for feature in audio_features:\n",
        "    plt.figure(figsize=(8, 4))\n",
        "    sns.kdeplot(data=combined_df, x=feature, hue='Popularity_Type', fill=True)\n",
        "    plt.title(f'Distribution of {feature} by Popularity Type')\n",
        "    plt.show()"
      ],
      "metadata": {
        "trusted": true,
        "execution": {
          "iopub.status.busy": "2025-01-27T23:29:43.550936Z",
          "iopub.execute_input": "2025-01-27T23:29:43.551265Z",
          "iopub.status.idle": "2025-01-27T23:29:45.189639Z",
          "shell.execute_reply.started": "2025-01-27T23:29:43.551243Z",
          "shell.execute_reply": "2025-01-27T23:29:45.188558Z"
        },
        "id": "3f5d437e-0b2a-4761-8cd1-5d34589a16be"
      },
      "outputs": [],
      "execution_count": null
    },
    {
      "cell_type": "markdown",
      "source": [
        "#### Temporal Analysis"
      ],
      "metadata": {
        "id": "c6533e17-3ed7-479f-b526-6b6a5a81f2b6"
      }
    },
    {
      "cell_type": "code",
      "source": [
        "# Popularity trends over time\n",
        "combined_df['year'] = combined_df['track_album_release_date'].dt.year\n",
        "popularity_trend = combined_df.groupby(['year', 'Popularity_Type'])['track_popularity'].mean().reset_index()\n",
        "\n",
        "plt.figure(figsize=(12, 6))\n",
        "sns.lineplot(data=popularity_trend, x='year', y='track_popularity', hue='Popularity_Type')\n",
        "plt.title('Average Popularity Over Time')\n",
        "plt.show()\n"
      ],
      "metadata": {
        "trusted": true,
        "execution": {
          "iopub.status.busy": "2025-01-27T23:29:45.190428Z",
          "iopub.execute_input": "2025-01-27T23:29:45.190646Z",
          "iopub.status.idle": "2025-01-27T23:29:45.38658Z",
          "shell.execute_reply.started": "2025-01-27T23:29:45.190628Z",
          "shell.execute_reply": "2025-01-27T23:29:45.385741Z"
        },
        "id": "7d978ab3-067f-42e3-a6ba-a9a4bd1eb56e"
      },
      "outputs": [],
      "execution_count": null
    },
    {
      "cell_type": "code",
      "source": [
        "# Group data by year, playlist genre, and popularity type to calculate average popularity\n",
        "popularity_trends = (\n",
        "    combined_df.groupby(['year', 'playlist_genre', 'Popularity_Type'])['track_popularity']\n",
        "    .mean()\n",
        "    .reset_index()\n",
        ")\n",
        "\n",
        "# Plot popularity trends\n",
        "plt.figure(figsize=(14, 10))\n",
        "sns.lineplot(\n",
        "    data=popularity_trends,\n",
        "    x='year',\n",
        "    y='track_popularity',\n",
        "    hue='playlist_genre',\n",
        "    style='Popularity_Type',\n",
        "    markers=True,\n",
        "    dashes=True,\n",
        "    palette='tab20'\n",
        ")\n",
        "\n",
        "# Add title and labels\n",
        "plt.title('Popularity Trends by Playlist Genre and Popularity Type Over Time', fontsize=16)\n",
        "plt.xlabel('Year', fontsize=14)\n",
        "plt.ylabel('Average Popularity', fontsize=14)\n",
        "plt.legend(title='Playlist Genre', bbox_to_anchor=(1.05, 1), loc='upper left')\n",
        "plt.grid(True)\n",
        "plt.tight_layout()\n",
        "\n",
        "# Show the plot\n",
        "plt.show()"
      ],
      "metadata": {
        "trusted": true,
        "execution": {
          "iopub.status.busy": "2025-01-27T23:29:45.387634Z",
          "iopub.execute_input": "2025-01-27T23:29:45.387948Z",
          "iopub.status.idle": "2025-01-27T23:29:46.157525Z",
          "shell.execute_reply.started": "2025-01-27T23:29:45.387924Z",
          "shell.execute_reply": "2025-01-27T23:29:46.156401Z"
        },
        "id": "2ac2e181-fcb5-4390-adac-bfe646ccbf54"
      },
      "outputs": [],
      "execution_count": null
    },
    {
      "cell_type": "code",
      "source": [
        "# Group by year and genre, calculate average popularity\n",
        "genre_popularity = (combined_df.groupby(['year', 'playlist_genre'])['track_popularity'].mean().reset_index())\n",
        "\n",
        "# Find the most and least popular genre per year\n",
        "most_popular_genres = genre_popularity.loc[genre_popularity.groupby('year')['track_popularity'].idxmax()]\n",
        "least_popular_genres = genre_popularity.loc[genre_popularity.groupby('year')['track_popularity'].idxmin()]\n",
        "\n",
        "# Merge results for better comparison\n",
        "popularity_summary = pd.merge(\n",
        "    most_popular_genres,\n",
        "    least_popular_genres,\n",
        "    on='year',\n",
        "    suffixes=('_most', '_least')\n",
        ")\n",
        "\n",
        "# Display the result\n",
        "print(popularity_summary)"
      ],
      "metadata": {
        "scrolled": true,
        "trusted": true,
        "execution": {
          "iopub.status.busy": "2025-01-27T23:29:46.158454Z",
          "iopub.execute_input": "2025-01-27T23:29:46.158699Z",
          "iopub.status.idle": "2025-01-27T23:29:46.174956Z",
          "shell.execute_reply.started": "2025-01-27T23:29:46.158679Z",
          "shell.execute_reply": "2025-01-27T23:29:46.173879Z"
        },
        "id": "0d7700f9-c161-47eb-b6fd-6dc98fd55ed2"
      },
      "outputs": [],
      "execution_count": null
    },
    {
      "cell_type": "code",
      "source": [
        "plt.figure(figsize=(14, 8))\n",
        "plt.plot(popularity_summary['year'], popularity_summary['track_popularity_most'], label='Most Popular Genre', marker='o')\n",
        "plt.plot(popularity_summary['year'], popularity_summary['track_popularity_least'], label='Least Popular Genre', marker='o')\n",
        "plt.title('Most and Least Popular Genres Over Time', fontsize=16)\n",
        "plt.xlabel('Year', fontsize=14)\n",
        "plt.ylabel('Average Popularity', fontsize=14)\n",
        "plt.legend()\n",
        "plt.grid(True)\n",
        "plt.show()"
      ],
      "metadata": {
        "scrolled": true,
        "trusted": true,
        "execution": {
          "iopub.status.busy": "2025-01-27T23:29:46.175771Z",
          "iopub.execute_input": "2025-01-27T23:29:46.176039Z",
          "iopub.status.idle": "2025-01-27T23:29:46.396365Z",
          "shell.execute_reply.started": "2025-01-27T23:29:46.176012Z",
          "shell.execute_reply": "2025-01-27T23:29:46.395316Z"
        },
        "id": "cfed552a-b829-4b5f-9068-f88a5307ddb9"
      },
      "outputs": [],
      "execution_count": null
    },
    {
      "cell_type": "code",
      "source": [
        "# Plot the most popular genres over time\n",
        "plt.figure(figsize=(20, 8))\n",
        "sns.barplot(\n",
        "    data=most_popular_genres,\n",
        "    x='year',\n",
        "    y='track_popularity',\n",
        "    hue='playlist_genre',\n",
        "    dodge=False,\n",
        "    palette='tab10'\n",
        ")\n",
        "plt.title('Most Popular Genre by Year', fontsize=16)\n",
        "plt.xlabel('Year', fontsize=14)\n",
        "plt.ylabel('Average Popularity', fontsize=14)\n",
        "plt.xticks(rotation=45)\n",
        "plt.legend(title='Playlist Genre', bbox_to_anchor=(1.05, 1), loc='upper left')\n",
        "plt.tight_layout()\n",
        "plt.show()"
      ],
      "metadata": {
        "scrolled": true,
        "trusted": true,
        "execution": {
          "iopub.status.busy": "2025-01-27T23:29:46.397197Z",
          "iopub.execute_input": "2025-01-27T23:29:46.397471Z",
          "iopub.status.idle": "2025-01-27T23:29:48.895501Z",
          "shell.execute_reply.started": "2025-01-27T23:29:46.39745Z",
          "shell.execute_reply": "2025-01-27T23:29:48.894467Z"
        },
        "id": "ecc143a5-5185-45ea-8205-25cb3ad1fe10"
      },
      "outputs": [],
      "execution_count": null
    },
    {
      "cell_type": "markdown",
      "source": [
        "#### Number of Tracks Released Over Years"
      ],
      "metadata": {
        "id": "a4120e4a-4902-43ec-8e11-09ff502a2498"
      }
    },
    {
      "cell_type": "code",
      "source": [
        "# Count the number of tracks released per year\n",
        "tracks_per_year = combined_df.groupby('year').size().reset_index(name='track_count')\n",
        "\n",
        "# Plot the number of tracks released over years\n",
        "plt.figure(figsize=(14, 8))\n",
        "sns.lineplot(data=tracks_per_year, x='year', y='track_count', marker='o', color='blue')\n",
        "plt.title('Number of Tracks Released Over Years', fontsize=16)\n",
        "plt.xlabel('Year', fontsize=14)\n",
        "plt.ylabel('Number of Tracks', fontsize=14)\n",
        "plt.grid(True)\n",
        "plt.tight_layout()\n",
        "plt.show()"
      ],
      "metadata": {
        "trusted": true,
        "execution": {
          "iopub.status.busy": "2025-01-27T23:29:48.89621Z",
          "iopub.execute_input": "2025-01-27T23:29:48.896507Z",
          "iopub.status.idle": "2025-01-27T23:29:49.147141Z",
          "shell.execute_reply.started": "2025-01-27T23:29:48.896481Z",
          "shell.execute_reply": "2025-01-27T23:29:49.145952Z"
        },
        "id": "28a2e4ac-6cb1-4aac-bac6-ac93fa1df174"
      },
      "outputs": [],
      "execution_count": null
    },
    {
      "cell_type": "markdown",
      "source": [
        "#### Boxplots of Audio Features"
      ],
      "metadata": {
        "id": "c975a1c5-8e52-4183-bcfb-718fa488c748"
      }
    },
    {
      "cell_type": "code",
      "source": [
        "plt.figure(figsize=(12, 20))\n",
        "for i, feature in enumerate(audio_features):\n",
        "    plt.subplot(4, 2, i + 1)\n",
        "    sns.boxplot(data=combined_df, x='Popularity_Type', y=feature, hue='Popularity_Type', palette='Set2')\n",
        "    plt.title(f'{feature.capitalize()} by Popularity Type')\n",
        "    plt.xlabel('Popularity Type')\n",
        "    plt.ylabel(feature.capitalize())\n",
        "\n",
        "plt.tight_layout()\n",
        "plt.show()"
      ],
      "metadata": {
        "trusted": true,
        "execution": {
          "iopub.status.busy": "2025-01-27T23:29:49.148908Z",
          "iopub.execute_input": "2025-01-27T23:29:49.149208Z",
          "iopub.status.idle": "2025-01-27T23:29:50.601501Z",
          "shell.execute_reply.started": "2025-01-27T23:29:49.149186Z",
          "shell.execute_reply": "2025-01-27T23:29:50.600373Z"
        },
        "id": "39600ab2-cc54-4363-983c-0f3bafffa2e3"
      },
      "outputs": [],
      "execution_count": null
    },
    {
      "cell_type": "markdown",
      "source": [
        "#### Genre-Based Analysis"
      ],
      "metadata": {
        "id": "7aff61c6-08ec-4389-bf86-aabf3886a21b"
      }
    },
    {
      "cell_type": "code",
      "source": [
        "# Count plot for genres by popularity type\n",
        "plt.figure(figsize=(12, 6))\n",
        "sns.countplot(data=combined_df, x='playlist_genre', hue='Popularity_Type', palette='Set2')\n",
        "plt.title('Genre Distribution by Popularity Type')\n",
        "plt.xlabel('Genre')\n",
        "plt.ylabel('Count')\n",
        "plt.xticks(rotation=45)\n",
        "plt.show()"
      ],
      "metadata": {
        "trusted": true,
        "execution": {
          "iopub.status.busy": "2025-01-27T23:29:50.605043Z",
          "iopub.execute_input": "2025-01-27T23:29:50.605394Z",
          "iopub.status.idle": "2025-01-27T23:29:50.985125Z",
          "shell.execute_reply.started": "2025-01-27T23:29:50.605373Z",
          "shell.execute_reply": "2025-01-27T23:29:50.983326Z"
        },
        "id": "22800bd1-ac5e-4d8f-ab1e-fd0b2cf8203b"
      },
      "outputs": [],
      "execution_count": null
    },
    {
      "cell_type": "markdown",
      "source": [
        "#### Scatter Plots for Feature Relationships"
      ],
      "metadata": {
        "id": "815d02b6-cbe9-4578-83f8-4e1087e6b111"
      }
    },
    {
      "cell_type": "code",
      "source": [
        "# Scatter plot for danceability vs energy\n",
        "plt.figure(figsize=(8, 6))\n",
        "sns.scatterplot(data=combined_df, x='danceability', y='energy', hue='Popularity_Type', alpha=0.7)\n",
        "plt.title('Danceability vs Energy by Popularity Type')\n",
        "plt.xlabel('Danceability')\n",
        "plt.ylabel('Energy')\n",
        "plt.legend(title='Popularity Type')\n",
        "plt.show()"
      ],
      "metadata": {
        "trusted": true,
        "execution": {
          "iopub.status.busy": "2025-01-27T23:29:50.986158Z",
          "iopub.execute_input": "2025-01-27T23:29:50.986404Z",
          "iopub.status.idle": "2025-01-27T23:29:51.398734Z",
          "shell.execute_reply.started": "2025-01-27T23:29:50.986385Z",
          "shell.execute_reply": "2025-01-27T23:29:51.397768Z"
        },
        "id": "02462a31-a92d-445d-8f1a-3aceef885ab5"
      },
      "outputs": [],
      "execution_count": null
    },
    {
      "cell_type": "markdown",
      "source": [
        "#### Tempo Distribution Across Genres"
      ],
      "metadata": {
        "id": "e93bf252-2e5b-4aa6-9774-16649da7df58"
      }
    },
    {
      "cell_type": "code",
      "source": [
        "# Boxplot for tempo across genres\n",
        "plt.figure(figsize=(12, 6))\n",
        "sns.boxplot(data=combined_df, x='playlist_genre', y='tempo', hue='Popularity_Type', palette='Set2')\n",
        "plt.title('Tempo Distribution Across Genres by Popularity Type')\n",
        "plt.xlabel('Genre')\n",
        "plt.ylabel('Tempo (BPM)')\n",
        "plt.xticks(rotation=45)\n",
        "plt.show()"
      ],
      "metadata": {
        "trusted": true,
        "execution": {
          "iopub.status.busy": "2025-01-27T23:29:51.399557Z",
          "iopub.execute_input": "2025-01-27T23:29:51.399792Z",
          "iopub.status.idle": "2025-01-27T23:29:52.449014Z",
          "shell.execute_reply.started": "2025-01-27T23:29:51.399774Z",
          "shell.execute_reply": "2025-01-27T23:29:52.44781Z"
        },
        "id": "5f18c00c-1b7e-40fb-b5ed-65c05c94c413"
      },
      "outputs": [],
      "execution_count": null
    },
    {
      "cell_type": "markdown",
      "source": [
        "#### Pair Plot for Numerical Features"
      ],
      "metadata": {
        "id": "db9f1c61-4112-41ba-875c-ff6882e74717"
      }
    },
    {
      "cell_type": "code",
      "source": [
        "# Select a subset of numerical features\n",
        "selected_features = ['danceability', 'energy', 'valence', 'tempo']\n",
        "sns.pairplot(combined_df[selected_features + ['Popularity_Type']], hue='Popularity_Type', diag_kind='kde')\n",
        "plt.suptitle('Pair Plot of Selected Features by Popularity Type', y=1.02)\n",
        "plt.show()"
      ],
      "metadata": {
        "trusted": true,
        "execution": {
          "iopub.status.busy": "2025-01-27T23:29:52.450186Z",
          "iopub.execute_input": "2025-01-27T23:29:52.450568Z",
          "iopub.status.idle": "2025-01-27T23:29:58.418088Z",
          "shell.execute_reply.started": "2025-01-27T23:29:52.450543Z",
          "shell.execute_reply": "2025-01-27T23:29:58.417102Z"
        },
        "id": "f694171e-d6ea-4d11-80cd-bdf4c570a965"
      },
      "outputs": [],
      "execution_count": null
    },
    {
      "cell_type": "markdown",
      "source": [
        "#### Liveness vs Acousticness"
      ],
      "metadata": {
        "id": "4cb2359d-4fcd-4fd5-8ad6-514eac68c863"
      }
    },
    {
      "cell_type": "code",
      "source": [
        "# Scatter plot for liveness vs acousticness\n",
        "plt.figure(figsize=(8, 6))\n",
        "sns.scatterplot(data=combined_df, x='liveness', y='acousticness', hue='Popularity_Type', alpha=0.7)\n",
        "plt.title('Liveness vs Acousticness by Popularity Type')\n",
        "plt.xlabel('Liveness')\n",
        "plt.ylabel('Acousticness')\n",
        "plt.legend(title='Popularity Type')\n",
        "plt.show()"
      ],
      "metadata": {
        "trusted": true,
        "execution": {
          "iopub.status.busy": "2025-01-27T23:29:58.418929Z",
          "iopub.execute_input": "2025-01-27T23:29:58.419211Z",
          "iopub.status.idle": "2025-01-27T23:29:58.810222Z",
          "shell.execute_reply.started": "2025-01-27T23:29:58.419191Z",
          "shell.execute_reply": "2025-01-27T23:29:58.809064Z"
        },
        "id": "41502e98-ff0a-450f-bada-434f7c57298e"
      },
      "outputs": [],
      "execution_count": null
    },
    {
      "cell_type": "markdown",
      "source": [
        "#### Duration Analysis"
      ],
      "metadata": {
        "id": "72633e46-a842-443b-b37c-3c1bbbb0da96"
      }
    },
    {
      "cell_type": "code",
      "source": [
        "# Convert duration from milliseconds to minutes\n",
        "combined_df['duration_min'] = combined_df['duration_ms'] / 60000\n",
        "\n",
        "# Boxplot for duration in minutes by popularity type\n",
        "plt.figure(figsize=(8, 6))\n",
        "sns.boxplot(data=combined_df, x='Popularity_Type', y='duration_min', hue='Popularity_Type', palette='Set2')\n",
        "plt.title('Track Duration by Popularity Type')\n",
        "plt.xlabel('Popularity Type')\n",
        "plt.ylabel('Duration (Minutes)')\n",
        "plt.show()\n"
      ],
      "metadata": {
        "trusted": true,
        "execution": {
          "iopub.status.busy": "2025-01-27T23:29:58.810989Z",
          "iopub.execute_input": "2025-01-27T23:29:58.811198Z",
          "iopub.status.idle": "2025-01-27T23:29:58.97094Z",
          "shell.execute_reply.started": "2025-01-27T23:29:58.81118Z",
          "shell.execute_reply": "2025-01-27T23:29:58.970167Z"
        },
        "id": "9d7870e6-9b33-4e10-a45b-c24492c0bc80"
      },
      "outputs": [],
      "execution_count": null
    },
    {
      "cell_type": "markdown",
      "source": [
        "These visualizations will provide a deeper understanding of the dataset's structure and relationships between features."
      ],
      "metadata": {
        "id": "0db4c1ac-e992-4606-9512-c72915bf864f"
      }
    },
    {
      "cell_type": "code",
      "source": [
        "combined_df.head()"
      ],
      "metadata": {
        "trusted": true,
        "execution": {
          "iopub.status.busy": "2025-01-27T23:29:58.971694Z",
          "iopub.execute_input": "2025-01-27T23:29:58.971928Z",
          "iopub.status.idle": "2025-01-27T23:29:58.994777Z",
          "shell.execute_reply.started": "2025-01-27T23:29:58.97191Z",
          "shell.execute_reply": "2025-01-27T23:29:58.993412Z"
        },
        "id": "0c2cfd30-bfd5-4335-9835-d7b5b98cd1b7"
      },
      "outputs": [],
      "execution_count": null
    },
    {
      "cell_type": "markdown",
      "source": [
        "## Feature Engineering"
      ],
      "metadata": {
        "id": "07e49792-79d8-4db0-93b4-d960926907a0"
      }
    },
    {
      "cell_type": "markdown",
      "source": [
        "Feature engineering is crucial for improving model performance by creating new features or transforming existing ones."
      ],
      "metadata": {
        "id": "d33b07d7-9e64-4e82-b082-c68b0f254e67"
      }
    },
    {
      "cell_type": "code",
      "source": [
        "# Extract year from the release date\n",
        "combined_df['release_year'] = combined_df['track_album_release_date'].dt.year\n",
        "\n",
        "# Create a new feature: Song Age (current year - release year)\n",
        "current_year = 2025  # Using the current year from the given date\n",
        "combined_df['song_age'] = current_year - combined_df['release_year']\n",
        "\n",
        "# Create interaction features\n",
        "combined_df['energy_danceability_ratio'] = combined_df['energy'] / (combined_df['danceability'] + 1e-5)\n",
        "combined_df['valence_energy_product'] = combined_df['valence'] * combined_df['energy']\n",
        "\n",
        "# Create a binary feature for whether the track is from the 2000s or earlier\n",
        "combined_df['is_2000s_or_earlier'] = (combined_df['release_year'] <= 2000).astype(int)\n",
        "\n",
        "# Scale numerical features\n",
        "scaler = StandardScaler()\n",
        "numerical_features = ['danceability', 'energy', 'loudness', 'speechiness', 'acousticness',\n",
        "                      'instrumentalness', 'liveness', 'valence', 'tempo', 'song_age']\n",
        "combined_df[numerical_features] = scaler.fit_transform(combined_df[numerical_features])\n",
        "\n",
        "# Drop rows with missing values after feature engineering\n",
        "combined_df = combined_df.dropna()\n",
        "\n",
        "# Save the engineered dataset for modeling\n",
        "combined_df.to_csv('engineered_spotify_data.csv', index=False)"
      ],
      "metadata": {
        "trusted": true,
        "execution": {
          "iopub.status.busy": "2025-01-27T23:29:58.995814Z",
          "iopub.execute_input": "2025-01-27T23:29:58.996121Z",
          "iopub.status.idle": "2025-01-27T23:29:59.147916Z",
          "shell.execute_reply.started": "2025-01-27T23:29:58.996096Z",
          "shell.execute_reply": "2025-01-27T23:29:59.146634Z"
        },
        "id": "a67aba3c-44e6-4d48-b2ea-a346638d461e"
      },
      "outputs": [],
      "execution_count": null
    },
    {
      "cell_type": "markdown",
      "source": [
        "## Modeling and Machine Learning"
      ],
      "metadata": {
        "id": "2cc2f8c2-327d-4582-ac87-62e026883a1e"
      }
    },
    {
      "cell_type": "markdown",
      "source": [
        "Now, let's proceed with modeling and machine learning using the engineered features:"
      ],
      "metadata": {
        "id": "34bd2e6d-7c1f-4358-a05f-79fec0b07efa"
      }
    },
    {
      "cell_type": "code",
      "source": [
        "from sklearn.model_selection import train_test_split, cross_val_score\n",
        "\n",
        "# Load the engineered dataset\n",
        "df = pd.read_csv('engineered_spotify_data.csv')\n",
        "\n",
        "# Convert the target variable ('Popularity_Type') to numeric\n",
        "df['Popularity_Type'] = df['Popularity_Type'].map({'High': 1, 'Low': 0})\n",
        "\n",
        "# Identify non-numeric columns\n",
        "non_numeric_columns = df.select_dtypes(exclude=[np.number]).columns\n",
        "\n",
        "# Encode categorical variables\n",
        "le = LabelEncoder()\n",
        "for col in non_numeric_columns:\n",
        "    df[col] = le.fit_transform(df[col].astype(str))\n",
        "\n",
        "# Prepare features and target variable\n",
        "X = df.drop(['Popularity_Type', 'track_album_release_date'], axis=1)\n",
        "y = df['Popularity_Type']\n",
        "\n",
        "# Split the data into training and testing sets\n",
        "X_train, X_test, y_train, y_test = train_test_split(X, y, test_size=0.2, random_state=42)\n",
        "\n",
        "# Initialize and train the Random Forest model\n",
        "rf_model = RandomForestClassifier(n_estimators=100, random_state=42)\n",
        "rf_model.fit(X_train, y_train)\n",
        "\n",
        "# Make predictions on the test set\n",
        "y_pred = rf_model.predict(X_test)\n",
        "\n",
        "# Print classification report\n",
        "print(classification_report(y_test, y_pred))\n",
        "\n",
        "# Plot confusion matrix\n",
        "cm = confusion_matrix(y_test, y_pred)\n",
        "plt.figure(figsize=(8, 6))\n",
        "sns.heatmap(cm, annot=True, fmt='d', cmap='Blues')\n",
        "plt.title('Confusion Matrix')\n",
        "plt.xlabel('Predicted')\n",
        "plt.ylabel('Actual')\n",
        "plt.show()\n",
        "\n",
        "# Feature importance\n",
        "feature_importance = pd.DataFrame({\n",
        "    'feature': X.columns,\n",
        "    'importance': rf_model.feature_importances_\n",
        "}).sort_values('importance', ascending=False)\n",
        "\n",
        "plt.figure(figsize=(10, 6))\n",
        "sns.barplot(x='importance', y='feature', data=feature_importance.head(15))\n",
        "plt.title('Top 15 Most Important Features')\n",
        "plt.show()\n",
        "\n",
        "# Perform cross-validation\n",
        "cv_scores = cross_val_score(rf_model, X, y, cv=5)\n",
        "print(f\"Cross-validation scores: {cv_scores}\")\n",
        "print(f\"Mean CV score: {cv_scores.mean():.4f}\")\n",
        "\n"
      ],
      "metadata": {
        "trusted": true,
        "execution": {
          "iopub.status.busy": "2025-01-27T23:29:59.148673Z",
          "iopub.execute_input": "2025-01-27T23:29:59.148904Z",
          "iopub.status.idle": "2025-01-27T23:30:03.661571Z",
          "shell.execute_reply.started": "2025-01-27T23:29:59.148886Z",
          "shell.execute_reply": "2025-01-27T23:30:03.660513Z"
        },
        "id": "4bddb958-cfe4-4fdf-844e-43e57b67f2de"
      },
      "outputs": [],
      "execution_count": null
    },
    {
      "cell_type": "markdown",
      "source": [
        "Based on the classification report, this Random Forest model for predicting track popularity on Spotify demonstrates excellent performance.\n",
        "\n",
        "In conclusion, this Random Forest model demonstrates high accuracy in predicting Spotify track popularity based on audio features and metadata. Its balanced performance across classes makes it a reliable tool for understanding and predicting music popularity trends on the platform. However, as with any model, it should be used in conjunction with domain expertise and consideration of external factors not captured in the dataset."
      ],
      "metadata": {
        "id": "3282ce3f-5423-44bb-bf5a-21341c54099c"
      }
    }
  ]
}