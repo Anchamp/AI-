{
  "nbformat": 4,
  "nbformat_minor": 0,
  "metadata": {
    "colab": {
      "provenance": [],
      "authorship_tag": "ABX9TyPHBE0MBwxbOFxpg2js1Ebx",
      "include_colab_link": true
    },
    "kernelspec": {
      "name": "python3",
      "display_name": "Python 3"
    },
    "language_info": {
      "name": "python"
    }
  },
  "cells": [
    {
      "cell_type": "markdown",
      "metadata": {
        "id": "view-in-github",
        "colab_type": "text"
      },
      "source": [
        "<a href=\"https://colab.research.google.com/github/Anchamp/AI-/blob/main/Feature_Extraction_.ipynb\" target=\"_parent\"><img src=\"https://colab.research.google.com/assets/colab-badge.svg\" alt=\"Open In Colab\"/></a>"
      ]
    },
    {
      "cell_type": "markdown",
      "source": [
        "\n",
        "\n",
        "*   Name-Anish Raj Hoat\n",
        "*   Regno-RA2211028010119\n",
        "\n",
        "\n",
        "*   Section -R1\n",
        "*   Department-NWC\n",
        "\n",
        "\n",
        "\n"
      ],
      "metadata": {
        "id": "lpFk4A3wX-Qu"
      }
    },
    {
      "cell_type": "code",
      "execution_count": 1,
      "metadata": {
        "id": "E38lQYZgVK4Y"
      },
      "outputs": [],
      "source": [
        "import numpy as np\n",
        "import pandas as pd\n",
        "from sklearn.feature_extraction.text import CountVectorizer, TfidfVectorizer\n",
        "import nltk\n",
        "from nltk.tokenize import word_tokenize\n",
        "from nltk.corpus import stopwords"
      ]
    },
    {
      "cell_type": "code",
      "source": [
        "# Download required NLTK data\n",
        "nltk.download('punkt')\n",
        "nltk.download('stopwords')"
      ],
      "metadata": {
        "colab": {
          "base_uri": "https://localhost:8080/"
        },
        "id": "y1MLrSkJVgsD",
        "outputId": "4d83505d-fd9a-4510-939c-0031580cf50c"
      },
      "execution_count": 2,
      "outputs": [
        {
          "output_type": "stream",
          "name": "stderr",
          "text": [
            "[nltk_data] Downloading package punkt to /root/nltk_data...\n",
            "[nltk_data]   Unzipping tokenizers/punkt.zip.\n",
            "[nltk_data] Downloading package stopwords to /root/nltk_data...\n",
            "[nltk_data]   Unzipping corpora/stopwords.zip.\n"
          ]
        },
        {
          "output_type": "execute_result",
          "data": {
            "text/plain": [
              "True"
            ]
          },
          "metadata": {},
          "execution_count": 2
        }
      ]
    },
    {
      "cell_type": "code",
      "source": [
        " # Sample text data\n",
        "texts = [\n",
        "    \"Natural language processing is fascinating.\",\n",
        "    \"Machine learning helps process text data efficiently.\",\n",
        "    \"Feature extraction is crucial for NLP tasks.\",\n",
        "    \"Text preprocessing improves model performance.\"\n",
        "]\n",
        "\n",
        "# 1. Bag of Words (BoW) Feature Extraction\n",
        "print(\"1. Bag of Words Feature Extraction\")\n",
        "print(\"-\" * 50)"
      ],
      "metadata": {
        "colab": {
          "base_uri": "https://localhost:8080/"
        },
        "id": "MpkWNaQMVk4r",
        "outputId": "3ff456c1-e062-4666-8a08-07d138d8d230"
      },
      "execution_count": 4,
      "outputs": [
        {
          "output_type": "stream",
          "name": "stdout",
          "text": [
            "1. Bag of Words Feature Extraction\n",
            "--------------------------------------------------\n"
          ]
        }
      ]
    },
    {
      "source": [
        "def bow_extraction(text_data):\n",
        "    # Initialize CountVectorizer\n",
        "    vectorizer = CountVectorizer(\n",
        "        lowercase=True,\n",
        "        strip_accents='ascii',\n",
        "        stop_words='english',\n",
        "        min_df=1  # Minimum document frequency\n",
        "    )\n",
        "    # Fit and transform the text data\n",
        "    bow_matrix = vectorizer.fit_transform(text_data)\n",
        "\n",
        "    # Create DataFrame with features\n",
        "    feature_names = vectorizer.get_feature_names_out()\n",
        "    bow_df = pd.DataFrame(bow_matrix.toarray(), columns=feature_names)\n",
        "\n",
        "    return bow_df, vectorizer"
      ],
      "cell_type": "code",
      "metadata": {
        "id": "qUrDsmVPWNPv"
      },
      "execution_count": 8,
      "outputs": []
    },
    {
      "cell_type": "code",
      "source": [
        "bow_features, bow_vectorizer = bow_extraction(texts)\n",
        "print(\"\\nBag of Words Features:\")\n",
        "print(bow_features)\n",
        "print(\"\\nVocabulary:\", bow_vectorizer.vocabulary_)\n",
        "\n"
      ],
      "metadata": {
        "colab": {
          "base_uri": "https://localhost:8080/"
        },
        "id": "wpWiNnBIWRDw",
        "outputId": "2f1af318-bcc7-4c73-866d-4265c8fed0f3"
      },
      "execution_count": 11,
      "outputs": [
        {
          "output_type": "stream",
          "name": "stdout",
          "text": [
            "\n",
            "Bag of Words Features:\n",
            "   crucial  data  efficiently  extraction  fascinating  feature  helps  \\\n",
            "0        0     0            0           0            1        0      0   \n",
            "1        0     1            1           0            0        0      1   \n",
            "2        1     0            0           1            0        1      0   \n",
            "3        0     0            0           0            0        0      0   \n",
            "\n",
            "   improves  language  learning  machine  model  natural  nlp  performance  \\\n",
            "0         0         1         0        0      0        1    0            0   \n",
            "1         0         0         1        1      0        0    0            0   \n",
            "2         0         0         0        0      0        0    1            0   \n",
            "3         1         0         0        0      1        0    0            1   \n",
            "\n",
            "   preprocessing  process  processing  tasks  text  \n",
            "0              0        0           1      0     0  \n",
            "1              0        1           0      0     1  \n",
            "2              0        0           0      1     0  \n",
            "3              1        0           0      0     1  \n",
            "\n",
            "Vocabulary: {'natural': 12, 'language': 8, 'processing': 17, 'fascinating': 4, 'machine': 10, 'learning': 9, 'helps': 6, 'process': 16, 'text': 19, 'data': 1, 'efficiently': 2, 'feature': 5, 'extraction': 3, 'crucial': 0, 'nlp': 13, 'tasks': 18, 'preprocessing': 15, 'improves': 7, 'model': 11, 'performance': 14}\n"
          ]
        }
      ]
    },
    {
      "source": [
        "# 2. TF-IDF Feature Extraction\n",
        "print(\"\\n2. TF-IDF Feature Extraction\")\n",
        "print(\"-\" * 50)\n",
        "\n",
        "def tfidf_extraction(text_data):\n",
        "    # Initialize TfidfVectorizer\n",
        "    vectorizer = TfidfVectorizer(\n",
        "        lowercase=True,\n",
        "        strip_accents='ascii',\n",
        "        stop_words='english',\n",
        "        min_df=1,\n",
        "        norm='l2',\n",
        "        smooth_idf=True\n",
        "    )\n",
        "    # Fit and transform the text data\n",
        "    tfidf_matrix = vectorizer.fit_transform(text_data)\n",
        "\n",
        "    # Create DataFrame with features\n",
        "    feature_names = vectorizer.get_feature_names_out()\n",
        "    tfidf_df = pd.DataFrame(tfidf_matrix.toarray(), columns=feature_names)\n",
        "\n",
        "    return tfidf_df, vectorizer\n",
        "\n",
        "print(\"TF-IDF:\", new_tfidf.toarray())"
      ],
      "cell_type": "code",
      "metadata": {
        "colab": {
          "base_uri": "https://localhost:8080/"
        },
        "id": "oK7vW4aGWwSD",
        "outputId": "f65defed-f355-4f45-dc1d-5e583154a204"
      },
      "execution_count": 18,
      "outputs": [
        {
          "output_type": "stream",
          "name": "stdout",
          "text": [
            "\n",
            "2. TF-IDF Feature Extraction\n",
            "--------------------------------------------------\n",
            "TF-IDF: [[0.         0.         0.         0.         0.         0.\n",
            "  0.         0.         0.52547275 0.         0.         0.\n",
            "  0.52547275 0.         0.         0.         0.         0.52547275\n",
            "  0.         0.41428875]]\n"
          ]
        }
      ]
    },
    {
      "cell_type": "code",
      "source": [
        "# Apply TF-IDF extraction\n",
        "tfidf_features, tfidf_vectorizer = tfidf_extraction(texts) # Passing 'texts' to tfidf_extraction\n",
        "print(\"\\nTF-IDF Features:\")\n",
        "print(tfidf_features)"
      ],
      "metadata": {
        "colab": {
          "base_uri": "https://localhost:8080/"
        },
        "id": "_m9zPtm1W3fx",
        "outputId": "e3e04e8d-681a-4e58-b5cc-8050b4f9c2ae"
      },
      "execution_count": 14,
      "outputs": [
        {
          "output_type": "stream",
          "name": "stdout",
          "text": [
            "\n",
            "TF-IDF Features:\n",
            "    crucial      data  efficiently  extraction  fascinating   feature  \\\n",
            "0  0.000000  0.000000     0.000000    0.000000          0.5  0.000000   \n",
            "1  0.000000  0.388614     0.388614    0.000000          0.0  0.000000   \n",
            "2  0.447214  0.000000     0.000000    0.447214          0.0  0.447214   \n",
            "3  0.000000  0.000000     0.000000    0.000000          0.0  0.000000   \n",
            "\n",
            "      helps  improves  language  learning   machine     model  natural  \\\n",
            "0  0.000000  0.000000       0.5  0.000000  0.000000  0.000000      0.5   \n",
            "1  0.388614  0.000000       0.0  0.388614  0.388614  0.000000      0.0   \n",
            "2  0.000000  0.000000       0.0  0.000000  0.000000  0.000000      0.0   \n",
            "3  0.000000  0.465162       0.0  0.000000  0.000000  0.465162      0.0   \n",
            "\n",
            "        nlp  performance  preprocessing   process  processing     tasks  \\\n",
            "0  0.000000     0.000000       0.000000  0.000000         0.5  0.000000   \n",
            "1  0.000000     0.000000       0.000000  0.388614         0.0  0.000000   \n",
            "2  0.447214     0.000000       0.000000  0.000000         0.0  0.447214   \n",
            "3  0.000000     0.465162       0.465162  0.000000         0.0  0.000000   \n",
            "\n",
            "       text  \n",
            "0  0.000000  \n",
            "1  0.306388  \n",
            "2  0.000000  \n",
            "3  0.366739  \n"
          ]
        }
      ]
    },
    {
      "cell_type": "code",
      "source": [
        "# Compare the two feature extraction methods\n",
        "print(\"\\nComparison of Features:\")\n",
        "print(\"-\" * 50)\n",
        "print(\"BoW Shape:\", bow_features.shape)\n",
        "print(\"TF-IDF Shape:\", tfidf_features.shape)"
      ],
      "metadata": {
        "colab": {
          "base_uri": "https://localhost:8080/"
        },
        "id": "X2XUkKtPW671",
        "outputId": "36dce0b6-698c-45f7-dab5-41a012581a32"
      },
      "execution_count": 15,
      "outputs": [
        {
          "output_type": "stream",
          "name": "stdout",
          "text": [
            "\n",
            "Comparison of Features:\n",
            "--------------------------------------------------\n",
            "BoW Shape: (4, 20)\n",
            "TF-IDF Shape: (4, 20)\n"
          ]
        }
      ]
    },
    {
      "cell_type": "code",
      "source": [
        "# Example of how to use these features for new text\n",
        "new_text = [\"This is a new text about natural language processing.\"]\n"
      ],
      "metadata": {
        "id": "OcvbPgxRW_WQ"
      },
      "execution_count": 16,
      "outputs": []
    },
    {
      "cell_type": "code",
      "source": [
        "# Transform new text using existing vectorizers\n",
        "new_bow = bow_vectorizer.transform(new_text)\n",
        "new_tfidf = tfidf_vectorizer.transform(new_text)\n",
        "\n",
        "print(\"\\nFeatures for new text:\")\n",
        "print(\"BoW:\", new_bow.toarray())\n",
        "print(\"TF-IDF:\", new_tfidf.toarray())"
      ],
      "metadata": {
        "colab": {
          "base_uri": "https://localhost:8080/"
        },
        "id": "Z5pk_du6XCF_",
        "outputId": "5559e516-a7d5-4512-9632-73c650d22eb2"
      },
      "execution_count": 17,
      "outputs": [
        {
          "output_type": "stream",
          "name": "stdout",
          "text": [
            "\n",
            "Features for new text:\n",
            "BoW: [[0 0 0 0 0 0 0 0 1 0 0 0 1 0 0 0 0 1 0 1]]\n",
            "TF-IDF: [[0.         0.         0.         0.         0.         0.\n",
            "  0.         0.         0.52547275 0.         0.         0.\n",
            "  0.52547275 0.         0.         0.         0.         0.52547275\n",
            "  0.         0.41428875]]\n"
          ]
        }
      ]
    }
  ]
}