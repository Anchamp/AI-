{
  "metadata": {
    "kernelspec": {
      "language": "python",
      "display_name": "Python 3",
      "name": "python3"
    },
    "language_info": {
      "name": "python",
      "version": "3.10.14",
      "mimetype": "text/x-python",
      "codemirror_mode": {
        "name": "ipython",
        "version": 3
      },
      "pygments_lexer": "ipython3",
      "nbconvert_exporter": "python",
      "file_extension": ".py"
    },
    "kaggle": {
      "accelerator": "none",
      "dataSources": [
        {
          "sourceId": 5080714,
          "sourceType": "datasetVersion",
          "datasetId": 2948142
        }
      ],
      "dockerImageVersionId": 30786,
      "isInternetEnabled": true,
      "language": "python",
      "sourceType": "notebook",
      "isGpuEnabled": false
    },
    "colab": {
      "provenance": []
    }
  },
  "nbformat_minor": 0,
  "nbformat": 4,
  "cells": [
    {
      "source": [
        "\n",
        "import kagglehub\n",
        "ealtman2019_ibm_transactions_for_anti_money_laundering_aml_path = kagglehub.dataset_download('ealtman2019/ibm-transactions-for-anti-money-laundering-aml')\n",
        "\n",
        "print('Data source import complete.')\n"
      ],
      "metadata": {
        "id": "_h2oK13-DDVI"
      },
      "cell_type": "code",
      "outputs": [],
      "execution_count": null
    },
    {
      "cell_type": "markdown",
      "source": [
        "# **IMPORT STATEMENTS**"
      ],
      "metadata": {
        "id": "vCs3jABYDDVO"
      }
    },
    {
      "cell_type": "code",
      "source": [
        "#IMPORT STATEMENTS\n",
        "import numpy as np\n",
        "import pandas as pd\n",
        "import matplotlib.pyplot as plt\n",
        "import seaborn as sns"
      ],
      "metadata": {
        "execution": {
          "iopub.status.busy": "2024-11-08T14:06:37.80209Z",
          "iopub.execute_input": "2024-11-08T14:06:37.802701Z",
          "iopub.status.idle": "2024-11-08T14:06:37.809398Z",
          "shell.execute_reply.started": "2024-11-08T14:06:37.802651Z",
          "shell.execute_reply": "2024-11-08T14:06:37.807749Z"
        },
        "trusted": true,
        "id": "U6lyntyBDDVP"
      },
      "execution_count": null,
      "outputs": []
    },
    {
      "cell_type": "markdown",
      "source": [
        "# **LOAD THE DATASET**"
      ],
      "metadata": {
        "id": "5dkNBYWaDDVQ"
      }
    },
    {
      "cell_type": "code",
      "source": [
        "df=pd.read_csv(\"/kaggle/input/ibm-transactions-for-anti-money-laundering-aml/HI-Small_Trans.csv\")"
      ],
      "metadata": {
        "execution": {
          "iopub.status.busy": "2024-11-08T14:06:37.811997Z",
          "iopub.execute_input": "2024-11-08T14:06:37.812562Z",
          "iopub.status.idle": "2024-11-08T14:06:51.641354Z",
          "shell.execute_reply.started": "2024-11-08T14:06:37.812501Z",
          "shell.execute_reply": "2024-11-08T14:06:51.639718Z"
        },
        "trusted": true,
        "id": "_a0ceDUvDDVR"
      },
      "execution_count": null,
      "outputs": []
    },
    {
      "cell_type": "code",
      "source": [
        "df.head()"
      ],
      "metadata": {
        "execution": {
          "iopub.status.busy": "2024-11-08T14:06:51.643251Z",
          "iopub.execute_input": "2024-11-08T14:06:51.64384Z",
          "iopub.status.idle": "2024-11-08T14:06:51.666395Z",
          "shell.execute_reply.started": "2024-11-08T14:06:51.643773Z",
          "shell.execute_reply": "2024-11-08T14:06:51.665022Z"
        },
        "trusted": true,
        "id": "SOHOR1HHDDVR"
      },
      "execution_count": null,
      "outputs": []
    },
    {
      "cell_type": "code",
      "source": [
        "df.info()"
      ],
      "metadata": {
        "execution": {
          "iopub.status.busy": "2024-11-08T14:06:51.66796Z",
          "iopub.execute_input": "2024-11-08T14:06:51.668419Z",
          "iopub.status.idle": "2024-11-08T14:06:51.681834Z",
          "shell.execute_reply.started": "2024-11-08T14:06:51.668376Z",
          "shell.execute_reply": "2024-11-08T14:06:51.680304Z"
        },
        "trusted": true,
        "id": "h0OFrzndDDVS"
      },
      "execution_count": null,
      "outputs": []
    },
    {
      "cell_type": "markdown",
      "source": [
        "# **DROP THE DUPLICATES**"
      ],
      "metadata": {
        "id": "hYQKUn9YDDVT"
      }
    },
    {
      "cell_type": "code",
      "source": [
        "df.drop_duplicates(inplace=True)"
      ],
      "metadata": {
        "execution": {
          "iopub.status.busy": "2024-11-08T14:06:51.685123Z",
          "iopub.execute_input": "2024-11-08T14:06:51.685641Z",
          "iopub.status.idle": "2024-11-08T14:07:01.047921Z",
          "shell.execute_reply.started": "2024-11-08T14:06:51.685584Z",
          "shell.execute_reply": "2024-11-08T14:07:01.046204Z"
        },
        "trusted": true,
        "id": "HOBafyFpDDVT"
      },
      "execution_count": null,
      "outputs": []
    },
    {
      "cell_type": "code",
      "source": [
        "df.shape"
      ],
      "metadata": {
        "execution": {
          "iopub.status.busy": "2024-11-08T14:07:01.04958Z",
          "iopub.execute_input": "2024-11-08T14:07:01.050099Z",
          "iopub.status.idle": "2024-11-08T14:07:01.058431Z",
          "shell.execute_reply.started": "2024-11-08T14:07:01.050037Z",
          "shell.execute_reply": "2024-11-08T14:07:01.057127Z"
        },
        "trusted": true,
        "id": "CvAyRcfKDDVU"
      },
      "execution_count": null,
      "outputs": []
    },
    {
      "cell_type": "markdown",
      "source": [
        "# **Data Distribution**"
      ],
      "metadata": {
        "id": "jLd2ens7DDVU"
      }
    },
    {
      "cell_type": "code",
      "source": [
        "df[\"Is Laundering\"].value_counts()"
      ],
      "metadata": {
        "execution": {
          "iopub.status.busy": "2024-11-08T14:07:01.059817Z",
          "iopub.execute_input": "2024-11-08T14:07:01.060358Z",
          "iopub.status.idle": "2024-11-08T14:07:01.126112Z",
          "shell.execute_reply.started": "2024-11-08T14:07:01.060296Z",
          "shell.execute_reply": "2024-11-08T14:07:01.1248Z"
        },
        "trusted": true,
        "id": "re6cPZREDDVU"
      },
      "execution_count": null,
      "outputs": []
    },
    {
      "cell_type": "code",
      "source": [
        "df[\"Is Laundering\"].value_counts(normalize=True)*100"
      ],
      "metadata": {
        "execution": {
          "iopub.status.busy": "2024-11-08T14:07:01.128353Z",
          "iopub.execute_input": "2024-11-08T14:07:01.129458Z",
          "iopub.status.idle": "2024-11-08T14:07:01.195342Z",
          "shell.execute_reply.started": "2024-11-08T14:07:01.129395Z",
          "shell.execute_reply": "2024-11-08T14:07:01.194004Z"
        },
        "trusted": true,
        "id": "eE_oE085DDVV"
      },
      "execution_count": null,
      "outputs": []
    },
    {
      "cell_type": "code",
      "source": [
        "target_count=df[\"Is Laundering\"].value_counts()\n",
        "plt.subplot(1,2,1)\n",
        "sns.barplot(x=target_count.index,y=target_count.values)\n",
        "plt.subplot(1,2,2)\n",
        "plt.pie(target_count.values,labels=target_count.index);"
      ],
      "metadata": {
        "execution": {
          "iopub.status.busy": "2024-11-08T14:07:01.196899Z",
          "iopub.execute_input": "2024-11-08T14:07:01.197339Z",
          "iopub.status.idle": "2024-11-08T14:07:01.51084Z",
          "shell.execute_reply.started": "2024-11-08T14:07:01.197294Z",
          "shell.execute_reply": "2024-11-08T14:07:01.50956Z"
        },
        "trusted": true,
        "id": "_Hj6usGjDDVV"
      },
      "execution_count": null,
      "outputs": []
    },
    {
      "cell_type": "markdown",
      "source": [
        "# **Deal  with TimeStamps**"
      ],
      "metadata": {
        "id": "FsZ8dCzoDDVV"
      }
    },
    {
      "cell_type": "code",
      "source": [
        "# Convert the \"Timestamp\" column to datetime format\n",
        "df[\"Timestamp\"] = pd.to_datetime(df[\"Timestamp\"])\n",
        "\n",
        "# Extract Date, Day, and Time from the Timestamp\n",
        "df[\"Date\"] = df[\"Timestamp\"].dt.date\n",
        "df[\"Day\"] = df[\"Timestamp\"].dt.day_name()\n",
        "df[\"Time\"] = df[\"Timestamp\"].dt.time\n",
        "\n",
        "df.drop(columns=[\"Timestamp\"], inplace=True)"
      ],
      "metadata": {
        "execution": {
          "iopub.status.busy": "2024-11-08T14:07:01.512228Z",
          "iopub.execute_input": "2024-11-08T14:07:01.512629Z",
          "iopub.status.idle": "2024-11-08T14:07:11.456203Z",
          "shell.execute_reply.started": "2024-11-08T14:07:01.512588Z",
          "shell.execute_reply": "2024-11-08T14:07:11.454942Z"
        },
        "trusted": true,
        "id": "StabVTNeDDVV"
      },
      "execution_count": null,
      "outputs": []
    },
    {
      "cell_type": "code",
      "source": [
        "df.head(2)"
      ],
      "metadata": {
        "execution": {
          "iopub.status.busy": "2024-11-08T14:07:11.457658Z",
          "iopub.execute_input": "2024-11-08T14:07:11.458048Z",
          "iopub.status.idle": "2024-11-08T14:07:11.476609Z",
          "shell.execute_reply.started": "2024-11-08T14:07:11.458008Z",
          "shell.execute_reply": "2024-11-08T14:07:11.475121Z"
        },
        "trusted": true,
        "id": "wJjHSpwlDDVW"
      },
      "execution_count": null,
      "outputs": []
    },
    {
      "cell_type": "markdown",
      "source": [
        "# **Define the X and Y**"
      ],
      "metadata": {
        "id": "vQcQee13DDVW"
      }
    },
    {
      "cell_type": "code",
      "source": [
        "X = df.drop(['Is Laundering'],axis = 1)\n",
        "y = df['Is Laundering']"
      ],
      "metadata": {
        "execution": {
          "iopub.status.busy": "2024-11-08T14:07:11.478236Z",
          "iopub.execute_input": "2024-11-08T14:07:11.478754Z",
          "iopub.status.idle": "2024-11-08T14:07:12.120574Z",
          "shell.execute_reply.started": "2024-11-08T14:07:11.478695Z",
          "shell.execute_reply": "2024-11-08T14:07:12.119252Z"
        },
        "trusted": true,
        "id": "90TGr1AmDDVW"
      },
      "execution_count": null,
      "outputs": []
    },
    {
      "cell_type": "markdown",
      "source": [
        "# **Under Sampling for dealing with Imbalanced Dataset**"
      ],
      "metadata": {
        "id": "Irww77GcDDVW"
      }
    },
    {
      "cell_type": "code",
      "source": [
        "# Define the undersampler\n",
        "from imblearn.under_sampling import RandomUnderSampler\n",
        "undersampler = RandomUnderSampler()"
      ],
      "metadata": {
        "execution": {
          "iopub.status.busy": "2024-11-08T14:07:12.122664Z",
          "iopub.execute_input": "2024-11-08T14:07:12.12322Z",
          "iopub.status.idle": "2024-11-08T14:07:12.128437Z",
          "shell.execute_reply.started": "2024-11-08T14:07:12.123165Z",
          "shell.execute_reply": "2024-11-08T14:07:12.127235Z"
        },
        "trusted": true,
        "id": "Rudtb0f1DDVW"
      },
      "execution_count": null,
      "outputs": []
    },
    {
      "cell_type": "code",
      "source": [
        "X,y=undersampler.fit_resample(X,y)"
      ],
      "metadata": {
        "execution": {
          "iopub.status.busy": "2024-11-08T14:07:12.133454Z",
          "iopub.execute_input": "2024-11-08T14:07:12.133883Z",
          "iopub.status.idle": "2024-11-08T14:07:13.997478Z",
          "shell.execute_reply.started": "2024-11-08T14:07:12.133841Z",
          "shell.execute_reply": "2024-11-08T14:07:13.996228Z"
        },
        "trusted": true,
        "id": "b5XuYIFLDDVX"
      },
      "execution_count": null,
      "outputs": []
    },
    {
      "cell_type": "markdown",
      "source": [
        "# **Visualizing The balanced Dataset**"
      ],
      "metadata": {
        "id": "nhPxsLrTDDVX"
      }
    },
    {
      "cell_type": "code",
      "source": [
        "new_distribution=y.value_counts()\n",
        "plt.figure(figsize=(5,3))\n",
        "sns.barplot(x=new_distribution.index,y=new_distribution.values)"
      ],
      "metadata": {
        "execution": {
          "iopub.status.busy": "2024-11-08T14:07:13.999298Z",
          "iopub.execute_input": "2024-11-08T14:07:13.999747Z",
          "iopub.status.idle": "2024-11-08T14:07:14.316305Z",
          "shell.execute_reply.started": "2024-11-08T14:07:13.999703Z",
          "shell.execute_reply": "2024-11-08T14:07:14.314836Z"
        },
        "trusted": true,
        "id": "aj2nJ4_ADDVX"
      },
      "execution_count": null,
      "outputs": []
    },
    {
      "cell_type": "markdown",
      "source": [
        "# **SPLITTING**"
      ],
      "metadata": {
        "id": "mt14OaPzDDVX"
      }
    },
    {
      "cell_type": "code",
      "source": [
        "from sklearn.model_selection import train_test_split\n",
        "X_train,X_test,y_train,y_test = train_test_split(X,y,test_size = 0.2,random_state = 42)"
      ],
      "metadata": {
        "execution": {
          "iopub.status.busy": "2024-11-08T14:07:14.318201Z",
          "iopub.execute_input": "2024-11-08T14:07:14.31946Z",
          "iopub.status.idle": "2024-11-08T14:07:14.337727Z",
          "shell.execute_reply.started": "2024-11-08T14:07:14.319399Z",
          "shell.execute_reply": "2024-11-08T14:07:14.336383Z"
        },
        "trusted": true,
        "id": "Dsbzr4eeDDVY"
      },
      "execution_count": null,
      "outputs": []
    },
    {
      "cell_type": "markdown",
      "source": [
        "# **ONE HOT ENCODING with PIPELINE**"
      ],
      "metadata": {
        "id": "n7re4hkJDDVY"
      }
    },
    {
      "cell_type": "code",
      "source": [
        "categorical = ['From Bank','Account','To Bank','Receiving Currency','Payment Currency','Payment Format','Day']"
      ],
      "metadata": {
        "_uuid": "8f2839f25d086af736a60e9eeb907d3b93b6e0e5",
        "_cell_guid": "b1076dfc-b9ad-4769-8c92-a6c4dae69d19",
        "execution": {
          "iopub.status.busy": "2024-11-08T14:07:14.339336Z",
          "iopub.execute_input": "2024-11-08T14:07:14.339765Z",
          "iopub.status.idle": "2024-11-08T14:07:14.345839Z",
          "shell.execute_reply.started": "2024-11-08T14:07:14.339708Z",
          "shell.execute_reply": "2024-11-08T14:07:14.344534Z"
        },
        "trusted": true,
        "id": "pr4wyz4xDDVY"
      },
      "execution_count": null,
      "outputs": []
    },
    {
      "cell_type": "code",
      "source": [
        "from sklearn.pipeline import Pipeline\n",
        "from sklearn.preprocessing import OneHotEncoder\n",
        "ohe = Pipeline([('Encoder',OneHotEncoder(drop = 'first',handle_unknown='ignore'))])"
      ],
      "metadata": {
        "execution": {
          "iopub.status.busy": "2024-11-08T14:07:14.347153Z",
          "iopub.execute_input": "2024-11-08T14:07:14.347585Z",
          "iopub.status.idle": "2024-11-08T14:07:14.360449Z",
          "shell.execute_reply.started": "2024-11-08T14:07:14.347531Z",
          "shell.execute_reply": "2024-11-08T14:07:14.359088Z"
        },
        "trusted": true,
        "id": "MyLccHczDDVY"
      },
      "execution_count": null,
      "outputs": []
    },
    {
      "cell_type": "code",
      "source": [
        "from sklearn.compose import ColumnTransformer\n",
        "transformer = ColumnTransformer([('One Hot Encoding',ohe,categorical)])"
      ],
      "metadata": {
        "execution": {
          "iopub.status.busy": "2024-11-08T14:07:14.361743Z",
          "iopub.execute_input": "2024-11-08T14:07:14.362174Z",
          "iopub.status.idle": "2024-11-08T14:07:14.382224Z",
          "shell.execute_reply.started": "2024-11-08T14:07:14.362132Z",
          "shell.execute_reply": "2024-11-08T14:07:14.380623Z"
        },
        "trusted": true,
        "id": "_-Hv1HmsDDVY"
      },
      "execution_count": null,
      "outputs": []
    },
    {
      "cell_type": "code",
      "source": [
        "from xgboost import XGBClassifier\n",
        "# Define the full pipeline without the undersampler\n",
        "model = Pipeline([\n",
        "    ('Transformer', transformer),           # Preprocess the data\n",
        "    ('Estimator', XGBClassifier())          # Train the model with XGBoost\n",
        "])"
      ],
      "metadata": {
        "execution": {
          "iopub.status.busy": "2024-11-08T14:07:14.384425Z",
          "iopub.execute_input": "2024-11-08T14:07:14.385564Z",
          "iopub.status.idle": "2024-11-08T14:07:14.662662Z",
          "shell.execute_reply.started": "2024-11-08T14:07:14.385502Z",
          "shell.execute_reply": "2024-11-08T14:07:14.661377Z"
        },
        "trusted": true,
        "id": "qN30BYeUDDVZ"
      },
      "execution_count": null,
      "outputs": []
    },
    {
      "cell_type": "markdown",
      "source": [
        "# **Fitting the model**"
      ],
      "metadata": {
        "id": "0XpVXW1JDDVZ"
      }
    },
    {
      "cell_type": "code",
      "source": [
        "model.fit(X_train,y_train)"
      ],
      "metadata": {
        "execution": {
          "iopub.status.busy": "2024-11-08T14:07:14.664258Z",
          "iopub.execute_input": "2024-11-08T14:07:14.664675Z",
          "iopub.status.idle": "2024-11-08T14:07:15.479247Z",
          "shell.execute_reply.started": "2024-11-08T14:07:14.664635Z",
          "shell.execute_reply": "2024-11-08T14:07:15.478067Z"
        },
        "trusted": true,
        "id": "klcmP1KiDDVa"
      },
      "execution_count": null,
      "outputs": []
    },
    {
      "cell_type": "markdown",
      "source": [
        "# **PREDICTION**"
      ],
      "metadata": {
        "id": "4sJmckZqDDVa"
      }
    },
    {
      "cell_type": "code",
      "source": [
        "#Predictions\n",
        "y_pred = model.predict(X_test)"
      ],
      "metadata": {
        "execution": {
          "iopub.status.busy": "2024-11-08T14:07:15.480798Z",
          "iopub.execute_input": "2024-11-08T14:07:15.481304Z",
          "iopub.status.idle": "2024-11-08T14:07:15.53689Z",
          "shell.execute_reply.started": "2024-11-08T14:07:15.481227Z",
          "shell.execute_reply": "2024-11-08T14:07:15.535664Z"
        },
        "trusted": true,
        "id": "WeDz5MvsDDVb"
      },
      "execution_count": null,
      "outputs": []
    },
    {
      "cell_type": "markdown",
      "source": [
        "# **EVALUATION**"
      ],
      "metadata": {
        "id": "Fd-5tzIqDDVb"
      }
    },
    {
      "cell_type": "code",
      "source": [
        "from sklearn.metrics import confusion_matrix\n",
        "plt.title(\"Confusion Matrix:\")\n",
        "cm=confusion_matrix(y_test, y_pred)\n",
        "sns.heatmap(cm,annot=True,fmt=\"d\",cmap=\"Blues\")\n",
        "plt.ylabel(\"Actual Values\")\n",
        "plt.xlabel(\"Predicted Values\")"
      ],
      "metadata": {
        "execution": {
          "iopub.status.busy": "2024-11-08T14:07:15.53846Z",
          "iopub.execute_input": "2024-11-08T14:07:15.539171Z",
          "iopub.status.idle": "2024-11-08T14:07:15.894249Z",
          "shell.execute_reply.started": "2024-11-08T14:07:15.539125Z",
          "shell.execute_reply": "2024-11-08T14:07:15.89266Z"
        },
        "trusted": true,
        "id": "8rCckV_PDDVb"
      },
      "execution_count": null,
      "outputs": []
    },
    {
      "cell_type": "code",
      "source": [
        "from sklearn.metrics import classification_report\n",
        "print(\"\\nClassification Report:\")\n",
        "print(classification_report(y_test, y_pred))"
      ],
      "metadata": {
        "execution": {
          "iopub.status.busy": "2024-11-08T14:07:15.896173Z",
          "iopub.execute_input": "2024-11-08T14:07:15.896639Z",
          "iopub.status.idle": "2024-11-08T14:07:15.926623Z",
          "shell.execute_reply.started": "2024-11-08T14:07:15.896594Z",
          "shell.execute_reply": "2024-11-08T14:07:15.925103Z"
        },
        "trusted": true,
        "id": "NmBZ1lcUDDVb"
      },
      "execution_count": null,
      "outputs": []
    },
    {
      "cell_type": "code",
      "source": [
        "from sklearn.metrics import accuracy_score\n",
        "from sklearn.metrics import precision_score\n",
        "from sklearn.metrics import recall_score\n",
        "from sklearn.metrics import f1_score\n",
        "print(\"Accuracy Score:\", accuracy_score(y_test, y_pred)*100)\n",
        "print(\"Precision Score:\",precision_score(y_test, y_pred)*100)\n",
        "print(\"Recall Score:\",recall_score(y_test, y_pred)*100)\n",
        "print(\"F1 Score:\", f1_score(y_test, y_pred)*100)"
      ],
      "metadata": {
        "execution": {
          "iopub.status.busy": "2024-11-08T14:07:15.928562Z",
          "iopub.execute_input": "2024-11-08T14:07:15.929499Z",
          "iopub.status.idle": "2024-11-08T14:07:15.958751Z",
          "shell.execute_reply.started": "2024-11-08T14:07:15.929428Z",
          "shell.execute_reply": "2024-11-08T14:07:15.956966Z"
        },
        "trusted": true,
        "id": "7xsZpyv9DDVc"
      },
      "execution_count": null,
      "outputs": []
    }
  ]
}